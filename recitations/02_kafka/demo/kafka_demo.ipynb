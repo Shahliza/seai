{
  "cells": [
    {
      "cell_type": "markdown",
      "metadata": {
        "id": "DLrDFjKHiMMA"
      },
      "source": [
        "# Kafka Demo\n",
        "\n",
        "### Connect to Kafka Broker Server\n",
        "```\n",
        "ssh -o ServerAliveInterval=60 -L 9092:localhost:9092 tunnel@128.2.204.215 -NTf\n",
        "```\n",
        "pass: (see Slack)\n",
        "\n",
        "\n",
        "To kill connection at port:\n",
        "```\n",
        "lsof -ti:9092 | xargs kill -9\n",
        "```\n",
        "\n",
        "### Setup\n",
        "```\n",
        "python -m pip install kafka-python\n",
        "```"
      ]
    },
    {
      "cell_type": "code",
      "execution_count": null,
      "metadata": {
        "id": "PUNMUptniMMC"
      },
      "outputs": [],
      "source": [
        "from os import path\n",
        "import sys, os\n",
        "from datetime import datetime\n",
        "from json import dumps, loads\n",
        "from time import sleep\n",
        "from random import randint\n",
        "import numpy as np\n",
        "# ssh -o ServerAliveInterval=60 -L 9092:localhost:9092 tunnel@128.2.204.215 -NTf\n",
        "from kafka import KafkaConsumer, KafkaProducer\n",
        "\n",
        "topic = 'test_ranadeep_2'"
      ]
    },
    {
      "cell_type": "code",
      "execution_count": null,
      "metadata": {},
      "outputs": [],
      "source": [
        "# Create a producer to write data to kafka\n",
        "# Ref: https://kafka-python.readthedocs.io/en/master/apidoc/KafkaProducer.html\n",
        "producer = KafkaProducer(bootstrap_servers=['localhost:9092'],\n",
        "                        value_serializer=lambda x: dumps(x).encode('utf-8'),\n",
        "                        )\n",
        "cities = ['Pittsburgh','New York','London','Bangalore','Shanghai','Tokyo','Munich']\n",
        "# Write data via the producer\n",
        "print(\"Writing to Kafka Broker\")\n",
        "for i in range(10):\n",
        "    data = f'{datetime.now().strftime(\"%Y-%m-%d %H:%M:%S\")},{cities[randint(0,len(cities)-1)]},{randint(18, 32)}ºC'\n",
        "    print(f\"Writing: {data}\")\n",
        "    producer.send(topic=topic, value=data)\n",
        "    sleep(1)"
      ]
    },
    {
      "cell_type": "code",
      "execution_count": null,
      "metadata": {},
      "outputs": [],
      "source": [
        "# Create a consumer to read data from kafka\n",
        "# Ref: https://kafka-python.readthedocs.io/en/master/apidoc/KafkaConsumer.html\n",
        "consumer = KafkaConsumer(\n",
        "    topic,\n",
        "    bootstrap_servers=['localhost:9092'],\n",
        "    # Read from the start of the topic; Default is latest\n",
        "    auto_offset_reset='earliest',\n",
        "    # auto_offset_reset='latest',\n",
        "    # group_id='team13',\n",
        "    # Commit that an offset has been read\n",
        "    enable_auto_commit=True,\n",
        "    # How often to tell Kafka, an offset has been read\n",
        "    auto_commit_interval_ms=1000\n",
        ")\n",
        "\n",
        "print('Reading Kafka Broker')\n",
        "for message in consumer:\n",
        "\n",
        "    message = message.value.decode()\n",
        "    # Default message.value type is bytes!\n",
        "    print(loads(message))\n",
        "    os.system(f\"echo {message} >> kafka_log.csv\")"
      ]
    }
  ],
  "metadata": {
    "colab": {
      "background_execution": "on",
      "collapsed_sections": [
        "DLrDFjKHiMMA",
        "xSjzWcB4iMME"
      ],
      "machine_shape": "hm",
      "provenance": []
    },
    "interpreter": {
      "hash": "e0f28e3919129c200a1709df97cd045cf6d343413d6f335d40c7df0d7cbc54ab"
    },
    "kernelspec": {
      "display_name": "Python 3.9.7 ('aieng')",
      "language": "python",
      "name": "python3"
    },
    "language_info": {
      "codemirror_mode": {
        "name": "ipython",
        "version": 3
      },
      "file_extension": ".py",
      "mimetype": "text/x-python",
      "name": "python",
      "nbconvert_exporter": "python",
      "pygments_lexer": "ipython3",
      "version": "3.9.7"
    }
  },
  "nbformat": 4,
  "nbformat_minor": 0
}
