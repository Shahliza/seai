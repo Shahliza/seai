{
 "cells": [
  {
   "attachments": {},
   "cell_type": "markdown",
   "metadata": {},
   "source": [
    "USing ChatGPT Tutorial: https://www.youtube.com/watch?v=S3okwVkxDgA\n",
    "\n",
    "Install\n",
    "``` bash\n",
    "pip install pyChatGPT webdriver_manager\n",
    "```"
   ]
  },
  {
   "cell_type": "code",
   "execution_count": null,
   "metadata": {},
   "outputs": [],
   "source": [
    "from pyChatGPT import ChatGPT\n",
    "from selenium import webdriver\n",
    "from selenium.webdriver.chrome.options import Options\n",
    "from selenium.webdriver.common.by import By\n",
    "from selenium.webdriver.chrome.service import Service\n",
    "from webdriver_manager.chrome import ChromeDriverManager\n",
    "from tqdm import tqdm\n",
    "from selenium.webdriver.support.ui import WebDriverWait\n",
    "from selenium.webdriver.support import expected_conditions as EC\n",
    "from selenium.webdriver.common.keys import Keys\n",
    "import time\n",
    "import os\n",
    "from dotenv import load_dotenv\n",
    "load_dotenv()\n"
   ]
  },
  {
   "attachments": {},
   "cell_type": "markdown",
   "metadata": {},
   "source": [
    "# Open Canvas"
   ]
  },
  {
   "cell_type": "markdown",
   "metadata": {},
   "source": []
  },
  {
   "cell_type": "code",
   "execution_count": null,
   "metadata": {},
   "outputs": [],
   "source": [
    "DRIVER_PATH = './chromedriver'\n",
    "\n",
    "options = Options()\n",
    "options.headless = False\n",
    "options.add_argument(\"--window-size=1920,1200\")\n",
    "\n",
    "driver = webdriver.Chrome(service=Service(ChromeDriverManager().install()), options=options)\n",
    "\n",
    "wait_time = 2"
   ]
  },
  {
   "cell_type": "code",
   "execution_count": null,
   "metadata": {},
   "outputs": [],
   "source": [
    "# give link of quiz to grade\n",
    "quiz_link = 'https://canvas.cmu.edu/courses/31156/gradebook/speed_grader?assignment_id=513942' \n",
    "driver.get(f'{quiz_link}')\n",
    "time.sleep(wait_time)\n",
    "\n",
    "try:\n",
    "    username = driver.find_element(By.ID, \"username\")\n",
    "    username.send_keys(os.environ['CANVAS_USERID']) \n",
    "\n",
    "    passwd = driver.find_element(By.ID, \"passwordinput\")\n",
    "    passwd.send_keys(os.environ['CANVAS_PASSWORD']) \n",
    "\n",
    "    button = driver.find_element(By.CLASS_NAME, \"loginbutton\")\n",
    "    button.click()\n",
    "    print(\"Logged in to Canvas\")\n",
    "except:\n",
    "    print(\"Already logged in to Canvas\")\n",
    "\n",
    "# Use .env value OPENAI_SESSION_TOKEN\n",
    "try:\n",
    "    openai_session_token = os.environ['OPENAI_SESSION_TOKEN'] # `__Secure-next-auth.session-token` cookie from https://chat.openai.com/chat\n",
    "    chap_gpt_api = ChatGPT(openai_session_token)  # auth with session token\n",
    "    print(\"Logged in to ChatGPT\")\n",
    "    time.sleep(wait_time)\n",
    "except:\n",
    "    Exception(\"Please set SESSION_AUTH_TOKEN in .env file\")\n"
   ]
  },
  {
   "cell_type": "code",
   "execution_count": null,
   "metadata": {},
   "outputs": [],
   "source": [
    "text = driver.find_element(By.ID, \"speedgrader_iframe\")\n",
    "text.get_attribute('src')\n",
    "\n",
    "driver.get(text.get_attribute('src'))\n",
    "time.sleep(wait_time)\n",
    "# driver.back()"
   ]
  },
  {
   "cell_type": "code",
   "execution_count": null,
   "metadata": {},
   "outputs": [],
   "source": [
    "question = driver.find_element(By.CLASS_NAME, \"question_text\").text\n",
    "question\n"
   ]
  },
  {
   "cell_type": "code",
   "execution_count": null,
   "metadata": {},
   "outputs": [],
   "source": [
    "answer = driver.find_element(By.CLASS_NAME, \"quiz_response_text\").text\n",
    "answer"
   ]
  },
  {
   "cell_type": "code",
   "execution_count": null,
   "metadata": {},
   "outputs": [],
   "source": [
    "prompt = {  'quiz_14': 'Answer yes or no if the answer is correct.', \n",
    "            'quiz_17': 'Answer yes or no if the answer made an effort to answer the question.',\n",
    "            'quiz_20': 'Answer yes or no if the answer is related to two ML specific secruity risks.',\n",
    "            }\n",
    "chat_gpt_response = chap_gpt_api.send_message(f'Question: {question} \\n\\n Answer: {answer} \\n\\n {prompt[\"quiz_20\"]}')['message']\n",
    "# chat_gpt_response = chat_gpt_response['message']\n",
    "chat_gpt_response\n"
   ]
  },
  {
   "cell_type": "code",
   "execution_count": null,
   "metadata": {},
   "outputs": [],
   "source": [
    "if \"yes\" in chat_gpt_response.lower():\n",
    "    print(\"Correct\")\n",
    "    grade = 1\n",
    "else:\n",
    "    print(\"Incorrect\")\n",
    "    grade = 0\n",
    "driver.find_element(By.CLASS_NAME, \"question_input\").send_keys(grade)"
   ]
  },
  {
   "cell_type": "code",
   "execution_count": null,
   "metadata": {},
   "outputs": [],
   "source": [
    "driver.find_element(By.XPATH, \"//textarea[starts-with(@id,'question_comment_')]\").send_keys(chat_gpt_response)"
   ]
  },
  {
   "cell_type": "code",
   "execution_count": null,
   "metadata": {},
   "outputs": [],
   "source": [
    "driver.find_element(By.ID, 'speed_grader_comment_textarea').send_keys(chat_gpt_response)"
   ]
  },
  {
   "cell_type": "code",
   "execution_count": null,
   "metadata": {},
   "outputs": [],
   "source": [
    "driver.find_element(By.XPATH, \"//button[@type='submit']\").click()"
   ]
  },
  {
   "cell_type": "code",
   "execution_count": null,
   "metadata": {},
   "outputs": [],
   "source": [
    "driver.back()\n",
    "# driver.back()"
   ]
  },
  {
   "cell_type": "code",
   "execution_count": null,
   "metadata": {},
   "outputs": [],
   "source": [
    "driver.find_element(By.XPATH, \"//button[@id='next-student-button']\").click()"
   ]
  },
  {
   "cell_type": "code",
   "execution_count": null,
   "metadata": {},
   "outputs": [],
   "source": [
    "graded_value = driver.find_element(By.ID, \"x_of_x_graded\").text\n",
    "graded_value = graded_value.split('/')\n",
    "int(graded_value[0]), int(graded_value[1])"
   ]
  },
  {
   "cell_type": "code",
   "execution_count": null,
   "metadata": {},
   "outputs": [],
   "source": [
    "while True:\n",
    "    graded_value = driver.find_element(By.ID, \"x_of_x_graded\").text\n",
    "    print(f\"Graded: {graded_value}\")\n",
    "    graded_value = graded_value.split('/')\n",
    "    if int(graded_value[0]) >= int(graded_value[1]):\n",
    "        break\n",
    "\n",
    "    student = driver.find_element(By.CLASS_NAME, \"ui-selectmenu-item-header\").text\n",
    "\n",
    "    # if driver.find_element(By.ID, \"grading-box-extended\").get_attribute('value') == '':\n",
    "    try:\n",
    "        text = driver.find_element(By.ID, \"speedgrader_iframe\")\n",
    "        text.get_attribute('src')\n",
    "\n",
    "        driver.get(text.get_attribute('src'))\n",
    "        time.sleep(wait_time)\n",
    "\n",
    "        if driver.find_element(By.CLASS_NAME, \"question_input\").get_attribute('value') == '':\n",
    "\n",
    "            question = driver.find_element(By.CLASS_NAME, \"question_text\").text\n",
    "            answer = driver.find_element(By.CLASS_NAME, \"quiz_response_text\").text\n",
    "\n",
    "            # time.sleep(wait_time)\n",
    "            # chat_gpt_response = chap_gpt_api.send_message(f'Question: {question} \\n\\n Answer: {answer} \\n\\n {prompt[\"quiz_20\"]}')['message']\n",
    "            if len(f'Question: {question} \\n\\n Answer: {answer}') > 200:\n",
    "                chat_gpt_response = 'yes'\n",
    "            else:\n",
    "                chat_gpt_response = 'No, answer too short'\n",
    "\n",
    "            if \"yes\" in chat_gpt_response.lower():\n",
    "                print(\"Correct\")\n",
    "                grade = 1\n",
    "            else:\n",
    "                print(\"Incorrect\")\n",
    "                grade = 0\n",
    "                # driver.find_element(By.XPATH, \"//textarea[starts-with(@id,'question_comment_')]\").send_keys(chat_gpt_response)\n",
    "            driver.find_element(By.CLASS_NAME, \"question_input\").send_keys(grade)\n",
    "\n",
    "            driver.find_element(By.XPATH, \"//button[@type='submit']\").click()\n",
    "            time.sleep(wait_time)\n",
    "            driver.back()\n",
    "            time.sleep(wait_time)\n",
    "            grade = driver.find_element(By.CLASS_NAME, \"question_input\").get_attribute('value')\n",
    "\n",
    "        driver.back()\n",
    "        time.sleep(wait_time)\n",
    "        if grade == '0':\n",
    "            driver.find_element(By.ID, 'speed_grader_comment_textarea').send_keys(chat_gpt_response)\n",
    "            driver.find_element(By.ID, \"comment_submit_button\").click()\n",
    "            time.sleep(wait_time)\n",
    "\n",
    "        print(f'Student: {student}, Graded: {grade}')\n",
    "        \n",
    "    except:\n",
    "        print(f'Student: {student} Does not have a submission')\n",
    "        if driver.find_element(By.ID, \"grading-box-extended\").get_attribute('value') == '':\n",
    "            driver.find_element(By.ID, \"grading-box-extended\").send_keys(0)\n",
    "            driver.find_element(By.ID, \"comment_submit_button\").click()\n",
    "            \n",
    "\n",
    "    driver.find_element(By.XPATH, \"//button[@id='next-student-button']\").click()\n",
    "    time.sleep(wait_time)\n",
    "\n",
    "print(\"Done grading all students\")\n",
    "    "
   ]
  }
 ],
 "metadata": {
  "kernelspec": {
   "display_name": "aieng",
   "language": "python",
   "name": "python3"
  },
  "language_info": {
   "codemirror_mode": {
    "name": "ipython",
    "version": 3
   },
   "file_extension": ".py",
   "mimetype": "text/x-python",
   "name": "python",
   "nbconvert_exporter": "python",
   "pygments_lexer": "ipython3",
   "version": "3.9.13 | packaged by conda-forge | (main, May 27 2022, 17:01:00) \n[Clang 13.0.1 ]"
  },
  "orig_nbformat": 4,
  "vscode": {
   "interpreter": {
    "hash": "e2ca1164df049a91d8989ec0cf3f02b5405170828740a3d358cdc6a01a0092af"
   }
  }
 },
 "nbformat": 4,
 "nbformat_minor": 2
}
